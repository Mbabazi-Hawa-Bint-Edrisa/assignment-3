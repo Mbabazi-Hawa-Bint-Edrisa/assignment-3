{
 "cells": [
  {
   "cell_type": "code",
   "execution_count": 6,
   "metadata": {},
   "outputs": [],
   "source": [
    "import numpy as np"
   ]
  },
  {
   "cell_type": "code",
   "execution_count": 9,
   "metadata": {},
   "outputs": [
    {
     "name": "stdout",
     "output_type": "stream",
     "text": [
      "[2, 3, 4]\n"
     ]
    }
   ],
   "source": [
    "h = 2\n",
    "d = 3\n",
    "e = 4\n",
    "list = [2,3,4]\n",
    "print(list)\n"
   ]
  },
  {
   "cell_type": "code",
   "execution_count": 30,
   "metadata": {},
   "outputs": [
    {
     "name": "stdout",
     "output_type": "stream",
     "text": [
      "36.75\n"
     ]
    }
   ],
   "source": [
    "# list of prices\n",
    " #cj chiken\n",
    " \n",
    "a = 9.99\n",
    "b = 7.99\n",
    "c = 7.49\n",
    "d = 6.29\n",
    "e = 4.99\n",
    " \n",
    "list1 = [9.99,7.99,7.49,7.00,6.29,4.99] \n",
    "result1 = (a + b + c + d +e)\n",
    "print(result1)\n",
    " \n",
    "\n",
    " \n",
    " \n",
    " "
   ]
  },
  {
   "cell_type": "code",
   "execution_count": 32,
   "metadata": {},
   "outputs": [
    {
     "name": "stdout",
     "output_type": "stream",
     "text": [
      "22.9\n"
     ]
    }
   ],
   "source": [
    "# list of prices\n",
    "#kfc chicken\n",
    "t = 7.5\n",
    "y = 5.0 \n",
    "u = 4.4 \n",
    "i = 3.75\n",
    "o = 2.25 \n",
    "\n",
    "list2 = [7.5,5.0,4.4 ,3.75,2.25]\n",
    "result2 = (t + y +u + i +o)\n",
    "print(result2)\n"
   ]
  },
  {
   "cell_type": "code",
   "execution_count": 33,
   "metadata": {},
   "outputs": [
    {
     "name": "stdout",
     "output_type": "stream",
     "text": [
      "59.65\n"
     ]
    }
   ],
   "source": [
    "#addition \n",
    "result = (result1 + result2)\n",
    "print(result)\n",
    " "
   ]
  },
  {
   "cell_type": "code",
   "execution_count": 34,
   "metadata": {},
   "outputs": [
    {
     "name": "stdout",
     "output_type": "stream",
     "text": [
      "13.850000000000001\n"
     ]
    }
   ],
   "source": [
    "#subtraction \n",
    "result = (result1 - result2)\n",
    "\n",
    "print(result)"
   ]
  },
  {
   "cell_type": "code",
   "execution_count": 36,
   "metadata": {},
   "outputs": [
    {
     "name": "stdout",
     "output_type": "stream",
     "text": [
      "<class 'type'>\n",
      "<built-in function len>\n"
     ]
    }
   ],
   "source": [
    "# cj chicken\n",
    "list1 = [9.99,7.99,7.49,7.00,6.29,4.99]\n",
    "print(type)\n",
    "print(len)"
   ]
  },
  {
   "cell_type": "code",
   "execution_count": 44,
   "metadata": {},
   "outputs": [
    {
     "name": "stdout",
     "output_type": "stream",
     "text": [
      "<class 'type'>\n",
      "<built-in function len>\n"
     ]
    }
   ],
   "source": [
    "#kfc chicken\n",
    "list2 = [7.5,5.0,4.4 ,3.75,2.25]\n",
    "print(type)\n",
    "print(len)"
   ]
  },
  {
   "cell_type": "code",
   "execution_count": 39,
   "metadata": {},
   "outputs": [],
   "source": [
    "# creating lists as arrays\n",
    "import numpy as np"
   ]
  },
  {
   "cell_type": "code",
   "execution_count": 41,
   "metadata": {},
   "outputs": [
    {
     "name": "stdout",
     "output_type": "stream",
     "text": [
      "<class 'tuple'>\n"
     ]
    }
   ],
   "source": [
    "# cj array\n",
    "list1 = (9.99,7.99,7.49,7.00,6.29,4.99)\n",
    "print(type(list1))"
   ]
  },
  {
   "cell_type": "code",
   "execution_count": 42,
   "metadata": {},
   "outputs": [
    {
     "name": "stdout",
     "output_type": "stream",
     "text": [
      "<class 'tuple'>\n"
     ]
    }
   ],
   "source": [
    "# kfc array\n",
    "list2 = (7.5,5.0,4.4 ,3.75,2.25)\n",
    "print(type(list2))"
   ]
  },
  {
   "cell_type": "code",
   "execution_count": 45,
   "metadata": {},
   "outputs": [
    {
     "name": "stdout",
     "output_type": "stream",
     "text": [
      "29.825\n"
     ]
    }
   ],
   "source": [
    "# mean \n",
    "result = (result1 + result2)/2\n",
    "print(result)"
   ]
  },
  {
   "cell_type": "code",
   "execution_count": 46,
   "metadata": {},
   "outputs": [
    {
     "data": {
      "text/plain": [
       "2.711666666666667"
      ]
     },
     "execution_count": 46,
     "metadata": {},
     "output_type": "execute_result"
    }
   ],
   "source": [
    "# mean difference \n",
    "np.mean(list1) - np.mean(list2)"
   ]
  },
  {
   "cell_type": "code",
   "execution_count": 47,
   "metadata": {},
   "outputs": [
    {
     "data": {
      "text/plain": [
       "1.5380769017040583"
      ]
     },
     "execution_count": 47,
     "metadata": {},
     "output_type": "execute_result"
    }
   ],
   "source": [
    "#std\n",
    "np.std(list1)\n"
   ]
  },
  {
   "cell_type": "code",
   "execution_count": 48,
   "metadata": {},
   "outputs": [
    {
     "data": {
      "text/plain": [
       "1.7235428628264513"
      ]
     },
     "execution_count": 48,
     "metadata": {},
     "output_type": "execute_result"
    }
   ],
   "source": [
    "#std\n",
    "np.std(list2)"
   ]
  }
 ],
 "metadata": {
  "kernelspec": {
   "display_name": "base",
   "language": "python",
   "name": "python3"
  },
  "language_info": {
   "codemirror_mode": {
    "name": "ipython",
    "version": 3
   },
   "file_extension": ".py",
   "mimetype": "text/x-python",
   "name": "python",
   "nbconvert_exporter": "python",
   "pygments_lexer": "ipython3",
   "version": "3.11.4"
  },
  "orig_nbformat": 4
 },
 "nbformat": 4,
 "nbformat_minor": 2
}
